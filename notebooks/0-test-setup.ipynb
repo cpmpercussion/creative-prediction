{
 "cells": [
  {
   "cell_type": "markdown",
   "metadata": {},
   "source": [
    "# Test Out Your Python Install!\n",
    "\n",
    "This notebook is designed to help you make sure your Creative Prediction setup is working.\n",
    "\n",
    "Let's step through these cells together to make sure you have the right libraries installed to follow along with the examples.\n",
    "\n",
    "In Jupyter notebook, you create small cells of code that you can run one at a time using the controls in the toolbar above. Cells can be `code` or set to _Markdown text_ (like **this** one).\n",
    "\n",
    "You can add some code to experiment with each one if you like!\n",
    "\n",
    "If you'd like more info to practice with Jupyter, here's a [getting started guide](https://medium.com/codingthesmartway-com-blog/getting-started-with-jupyter-notebook-for-python-4e7082bd5d46)"
   ]
  },
  {
   "cell_type": "code",
   "execution_count": null,
   "metadata": {},
   "outputs": [],
   "source": [
    "# install packages in the current Jupyter kernel\n",
    "import sys\n",
    "!{sys.executable} -m pip install -r ../requirements.txt\n",
    "!{sys.executable} -m pip install tensorflow-macos\n",
    "!{sys.executable} -m pip install --upgrade requests"
   ]
  },
  {
   "cell_type": "code",
   "execution_count": null,
   "metadata": {},
   "outputs": [],
   "source": []
  },
  {
   "cell_type": "markdown",
   "metadata": {},
   "source": [
    "## Numpy\n",
    "\n",
    "First, let's try out numpy, Python's numerical processing library.\n",
    "\n",
    "\n",
    "If you're new to numpy, here's a tutorial: [Numpy Quickstart](https://docs.scipy.org/doc/numpy/user/quickstart.html)"
   ]
  },
  {
   "cell_type": "code",
   "execution_count": null,
   "metadata": {},
   "outputs": [],
   "source": [
    "import numpy as np\n",
    "\n",
    "# Generate a random 3x3 matrix\n",
    "x = np.random.rand(3,3)\n",
    "print(x)"
   ]
  },
  {
   "cell_type": "markdown",
   "metadata": {},
   "source": [
    "## Pandas\n",
    "\n",
    "Pandas isn't as widely used as numpy, but I like to use it to read and process data from CSV files. \n",
    "\n",
    "Pandas is great for loading complex tables of data, processing sequences with timestamps (important for temporal musical data), and doing statistics. \n",
    "\n",
    "If you're new to pandas, here's a tutorial: [10 Minutes to Pandas](https://pandas.pydata.org/pandas-docs/stable/getting_started/10min.html)"
   ]
  },
  {
   "cell_type": "code",
   "execution_count": null,
   "metadata": {},
   "outputs": [],
   "source": [
    "import pandas as pd\n",
    "\n",
    "dates = pd.date_range('20190101', periods=6)\n",
    "df = pd.DataFrame(np.random.randn(6, 4), index=dates, columns=list('ABCD'))\n",
    "display(df.head())\n",
    "df.describe()"
   ]
  },
  {
   "cell_type": "markdown",
   "metadata": {},
   "source": [
    "## Keras\n",
    "\n",
    "[Keras](https://keras.io) is a deep learning library for Python (and R)\n",
    "\n",
    "Here's a very short tutorial: [30 seconds to Keras](https://keras.io/#getting-started-30-seconds-to-keras)"
   ]
  },
  {
   "cell_type": "code",
   "execution_count": null,
   "metadata": {},
   "outputs": [],
   "source": [
    "from tensorflow import keras\n",
    "\n",
    "model = keras.models.Sequential()\n",
    "model.add(keras.layers.Dense(units=64, activation='relu', input_dim=100))\n",
    "model.add(keras.layers.Dense(units=10, activation='softmax'))\n",
    "model.compile(loss='categorical_crossentropy', optimizer='sgd')\n",
    "model.summary()"
   ]
  },
  {
   "cell_type": "markdown",
   "metadata": {},
   "source": [
    "## Shell Commands\n",
    "\n",
    "Jupyter notebooks can make terminal commands by prefixing them with an exclamation point, e.g.:\n",
    "\n",
    "    !pip install --upgrade numpy\n",
    "\n",
    "This is especially handy on Colab where you can't access the underlying computer's command line shell any other way!"
   ]
  },
  {
   "cell_type": "code",
   "execution_count": null,
   "metadata": {},
   "outputs": [],
   "source": [
    "!pwd\n",
    "!du -sh *"
   ]
  },
  {
   "cell_type": "markdown",
   "metadata": {},
   "source": [
    "## Getting some data...\n",
    "\n",
    "If you're on Colab, you can upload data in the browser, or connect to google drive, but I find it easier just to `wget` your datasets from an open folder on the web.\n",
    "\n",
    "I put my datasets on my web page, e.g.: `https://metatonetransfer.com/datasets/doom_images.npz`\n",
    "\n",
    "It's good to know how to **save** and **load** Numpy Arrays: \n",
    "\n",
    "- [numpy.save](https://docs.scipy.org/doc/numpy/reference/generated/numpy.save.html)\n",
    "- [numpy.load](https://docs.scipy.org/doc/numpy/reference/generated/numpy.load.html)"
   ]
  },
  {
   "cell_type": "code",
   "execution_count": null,
   "metadata": {},
   "outputs": [],
   "source": [
    "!wget https://metatonetransfer.com/datasets/doom_images.npz"
   ]
  },
  {
   "cell_type": "code",
   "execution_count": null,
   "metadata": {},
   "outputs": [],
   "source": [
    "doom_corpus = np.load('doom_images.npz')\n",
    "doom_arrays = doom_corpus['arr_0']\n",
    "doom_arrays.shape"
   ]
  },
  {
   "cell_type": "code",
   "execution_count": null,
   "metadata": {},
   "outputs": [],
   "source": [
    "from IPython.display import Image, display\n",
    "img = keras.utils.array_to_img(doom_arrays[0], scale=False)\n",
    "display(img.resize((300, 300)))"
   ]
  }
 ],
 "metadata": {
  "kernelspec": {
   "display_name": "Python 3 (ipykernel)",
   "language": "python",
   "name": "python3"
  },
  "language_info": {
   "codemirror_mode": {
    "name": "ipython",
    "version": 3
   },
   "file_extension": ".py",
   "mimetype": "text/x-python",
   "name": "python",
   "nbconvert_exporter": "python",
   "pygments_lexer": "ipython3",
   "version": "3.9.13"
  }
 },
 "nbformat": 4,
 "nbformat_minor": 4
}
